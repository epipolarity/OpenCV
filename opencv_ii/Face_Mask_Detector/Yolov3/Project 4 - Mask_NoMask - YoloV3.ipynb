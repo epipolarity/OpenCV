{
 "cells": [
  {
   "cell_type": "code",
   "execution_count": null,
   "id": "75f1dcdb",
   "metadata": {},
   "outputs": [],
   "source": [
    "import random\n",
    "import os\n",
    "import subprocess\n",
    "import sys\n",
    "\n",
    "!pip install wget"
   ]
  },
  {
   "cell_type": "code",
   "execution_count": null,
   "id": "156680ef",
   "metadata": {},
   "outputs": [],
   "source": [
    "# download training dataset\n",
    "\n",
    "if not os.path.isdir(\"mask_no-mask_dataset\"):\n",
    "    os.mkdir(\"mask_no-mask_dataset\")\n",
    "    print(\"downloading...\")\n",
    "    !python -m wget https://www.dropbox.com/s/uq0x32w70c390fb/mask_no-mask_dataset.zip?dl=1    \n",
    "    !tar -xf mask_no-mask_dataset.zip -C mask_no-mask_dataset\n",
    "    os.remove(\"mask_no-mask_dataset.zip\")\n",
    "    print(\"dataset downloaded and extracted\")\n",
    "else:\n",
    "    print(\"training dataset already exists\")"
   ]
  },
  {
   "cell_type": "code",
   "execution_count": null,
   "id": "237eaa90",
   "metadata": {},
   "outputs": [],
   "source": [
    "# download test dataset (for final evaluation only)\n",
    "\n",
    "if not os.path.isdir(\"test_set\"):\n",
    "    os.mkdir(\"test_set\")\n",
    "    print(\"downloading...\")\n",
    "    !python -m wget https://www.dropbox.com/s/fxei8rit9v2n83s/test-image1.jpg?dl=1 -o test_set\\test-image1.jpg\n",
    "    !python -m wget https://www.dropbox.com/s/ia1fijzr69ytpp1/test-image2.jpg?dl=1 -o test_set\\test-image2.jpg\n",
    "    !python -m wget https://www.dropbox.com/s/g905k4r1git5kbx/test-image3.jpg?dl=1 -o test_set\\test-image3.jpg\n",
    "    !python -m wget https://www.dropbox.com/s/90ggmiur7b8g35m/test-image4.jpg?dl=1 -o test_set\\test-image4.jpg\n",
    "    !python -m wget https://www.dropbox.com/s/pds0w3z5y7w89oz/test-video1.mp4?dl=1 -o test_set\\test-video1.mp4\n",
    "    !python -m wget https://www.dropbox.com/s/sqwu0ktdtlxtdsd/test-video2.mp4?dl=1 -o test_set\\test-video2.mp4\n",
    "else:\n",
    "    print(\"test dataset alreay exists\")"
   ]
  },
  {
   "cell_type": "code",
   "execution_count": null,
   "id": "79def2d2",
   "metadata": {},
   "outputs": [],
   "source": [
    "# create 80/20 division between training and test data\n",
    "\n",
    "image_dir = \"mask_no-mask_dataset\"\n",
    "f_val = open(\"data_test.txt\", 'w')\n",
    "f_train = open(\"data_train.txt\", 'w')\n",
    "\n",
    "path, dirs, files = next(os.walk(image_dir))\n",
    "data_size = len(files)\n",
    "\n",
    "ind = 0\n",
    "data_test_size = int(0.2 * data_size)\n",
    "test_array = random.sample(range(data_size), k=data_test_size)\n",
    "\n",
    "for f in os.listdir(image_dir):\n",
    "    if(f.split(\".\")[-1] == \"jpg\"):\n",
    "        ind += 1\n",
    "        \n",
    "        if ind in test_array:\n",
    "            f_val.write(image_dir+'/'+f+'\\n')\n",
    "        else:\n",
    "            f_train.write(image_dir+'/'+f+'\\n')\n",
    "\n",
    "f_train.close()\n",
    "f_val.close()"
   ]
  },
  {
   "cell_type": "code",
   "execution_count": null,
   "id": "7c6de6a2",
   "metadata": {},
   "outputs": [],
   "source": [
    "# download pretrained darknet model\n",
    "\n",
    "if not os.path.exists(\"darknet53.conv.74\"):\n",
    "    print(\"downloading pretrained darknet model\")\n",
    "    !python -m wget https://www.dropbox.com/s/18dwbfth7prbf0h/darknet53.conv.74?dl=1\n",
    "else:\n",
    "    print(\"pretrained model already exists\")"
   ]
  }
 ],
 "metadata": {
  "kernelspec": {
   "display_name": "opencv-env",
   "language": "python",
   "name": "opencv-env"
  },
  "language_info": {
   "codemirror_mode": {
    "name": "ipython",
    "version": 3
   },
   "file_extension": ".py",
   "mimetype": "text/x-python",
   "name": "python",
   "nbconvert_exporter": "python",
   "pygments_lexer": "ipython3",
   "version": "3.10.2"
  }
 },
 "nbformat": 4,
 "nbformat_minor": 5
}
